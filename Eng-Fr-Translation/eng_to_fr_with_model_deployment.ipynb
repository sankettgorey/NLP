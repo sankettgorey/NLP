{
  "cells": [
    {
      "cell_type": "markdown",
      "metadata": {
        "id": "oYoE-vtT5N1r"
      },
      "source": [
        "### Neural Machine Translation using word level language model and embeddings in Keras"
      ]
    },
    {
      "cell_type": "code",
      "execution_count": 45,
      "metadata": {
        "id": "uayqG3oS5N1z"
      },
      "outputs": [],
      "source": []
    },
    {
      "cell_type": "code",
      "execution_count": 46,
      "metadata": {
        "id": "0Bxv6cxY5N11"
      },
      "outputs": [],
      "source": [
        "import pandas as pd\n",
        "import numpy as np\n",
        "import string\n",
        "from string import digits\n",
        "import matplotlib.pyplot as plt\n",
        "%matplotlib inline\n",
        "import re\n",
        "from sklearn.model_selection import train_test_split\n",
        "# Building a english to french translator"
      ]
    },
    {
      "cell_type": "code",
      "execution_count": 46,
      "metadata": {
        "id": "GjCcY-Eg5N13"
      },
      "outputs": [],
      "source": []
    },
    {
      "cell_type": "code",
      "execution_count": 47,
      "metadata": {
        "colab": {
          "base_uri": "https://localhost:8080/"
        },
        "id": "wSqIIHvx5N13",
        "outputId": "f2561214-4f01-4faa-922a-68d92da8f667"
      },
      "outputs": [
        {
          "output_type": "stream",
          "name": "stdout",
          "text": [
            "Drive already mounted at /content/drive; to attempt to forcibly remount, call drive.mount(\"/content/drive\", force_remount=True).\n"
          ]
        }
      ],
      "source": [
        "from google.colab import drive\n",
        "drive.mount('/content/drive')"
      ]
    },
    {
      "cell_type": "code",
      "execution_count": 48,
      "metadata": {
        "id": "IzZ5rp8n5N15"
      },
      "outputs": [],
      "source": [
        "path = '/content/drive/MyDrive/Machine Translation Keras/fra.txt'"
      ]
    },
    {
      "cell_type": "code",
      "execution_count": 49,
      "metadata": {
        "id": "NCxOp15s5N16"
      },
      "outputs": [],
      "source": [
        "lines= pd.read_table(path, names=['eng', 'fr', 'exclude'])\n",
        "lines.drop('exclude', axis = 1, inplace = True)"
      ]
    },
    {
      "cell_type": "code",
      "execution_count": 50,
      "metadata": {
        "colab": {
          "base_uri": "https://localhost:8080/",
          "height": 206
        },
        "id": "JYX3H0-26YEE",
        "outputId": "ba383d07-3dd7-403f-af12-a38e6abc7128"
      },
      "outputs": [
        {
          "output_type": "execute_result",
          "data": {
            "text/plain": [
              "    eng        fr\n",
              "0   Go.      Va !\n",
              "1   Hi.   Salut !\n",
              "2   Hi.    Salut.\n",
              "3  Run!   Cours !\n",
              "4  Run!  Courez !"
            ],
            "text/html": [
              "\n",
              "  <div id=\"df-80dea2d1-0cbd-4cd6-b6a9-cdcdb334c956\">\n",
              "    <div class=\"colab-df-container\">\n",
              "      <div>\n",
              "<style scoped>\n",
              "    .dataframe tbody tr th:only-of-type {\n",
              "        vertical-align: middle;\n",
              "    }\n",
              "\n",
              "    .dataframe tbody tr th {\n",
              "        vertical-align: top;\n",
              "    }\n",
              "\n",
              "    .dataframe thead th {\n",
              "        text-align: right;\n",
              "    }\n",
              "</style>\n",
              "<table border=\"1\" class=\"dataframe\">\n",
              "  <thead>\n",
              "    <tr style=\"text-align: right;\">\n",
              "      <th></th>\n",
              "      <th>eng</th>\n",
              "      <th>fr</th>\n",
              "    </tr>\n",
              "  </thead>\n",
              "  <tbody>\n",
              "    <tr>\n",
              "      <th>0</th>\n",
              "      <td>Go.</td>\n",
              "      <td>Va !</td>\n",
              "    </tr>\n",
              "    <tr>\n",
              "      <th>1</th>\n",
              "      <td>Hi.</td>\n",
              "      <td>Salut !</td>\n",
              "    </tr>\n",
              "    <tr>\n",
              "      <th>2</th>\n",
              "      <td>Hi.</td>\n",
              "      <td>Salut.</td>\n",
              "    </tr>\n",
              "    <tr>\n",
              "      <th>3</th>\n",
              "      <td>Run!</td>\n",
              "      <td>Cours !</td>\n",
              "    </tr>\n",
              "    <tr>\n",
              "      <th>4</th>\n",
              "      <td>Run!</td>\n",
              "      <td>Courez !</td>\n",
              "    </tr>\n",
              "  </tbody>\n",
              "</table>\n",
              "</div>\n",
              "      <button class=\"colab-df-convert\" onclick=\"convertToInteractive('df-80dea2d1-0cbd-4cd6-b6a9-cdcdb334c956')\"\n",
              "              title=\"Convert this dataframe to an interactive table.\"\n",
              "              style=\"display:none;\">\n",
              "        \n",
              "  <svg xmlns=\"http://www.w3.org/2000/svg\" height=\"24px\"viewBox=\"0 0 24 24\"\n",
              "       width=\"24px\">\n",
              "    <path d=\"M0 0h24v24H0V0z\" fill=\"none\"/>\n",
              "    <path d=\"M18.56 5.44l.94 2.06.94-2.06 2.06-.94-2.06-.94-.94-2.06-.94 2.06-2.06.94zm-11 1L8.5 8.5l.94-2.06 2.06-.94-2.06-.94L8.5 2.5l-.94 2.06-2.06.94zm10 10l.94 2.06.94-2.06 2.06-.94-2.06-.94-.94-2.06-.94 2.06-2.06.94z\"/><path d=\"M17.41 7.96l-1.37-1.37c-.4-.4-.92-.59-1.43-.59-.52 0-1.04.2-1.43.59L10.3 9.45l-7.72 7.72c-.78.78-.78 2.05 0 2.83L4 21.41c.39.39.9.59 1.41.59.51 0 1.02-.2 1.41-.59l7.78-7.78 2.81-2.81c.8-.78.8-2.07 0-2.86zM5.41 20L4 18.59l7.72-7.72 1.47 1.35L5.41 20z\"/>\n",
              "  </svg>\n",
              "      </button>\n",
              "      \n",
              "  <style>\n",
              "    .colab-df-container {\n",
              "      display:flex;\n",
              "      flex-wrap:wrap;\n",
              "      gap: 12px;\n",
              "    }\n",
              "\n",
              "    .colab-df-convert {\n",
              "      background-color: #E8F0FE;\n",
              "      border: none;\n",
              "      border-radius: 50%;\n",
              "      cursor: pointer;\n",
              "      display: none;\n",
              "      fill: #1967D2;\n",
              "      height: 32px;\n",
              "      padding: 0 0 0 0;\n",
              "      width: 32px;\n",
              "    }\n",
              "\n",
              "    .colab-df-convert:hover {\n",
              "      background-color: #E2EBFA;\n",
              "      box-shadow: 0px 1px 2px rgba(60, 64, 67, 0.3), 0px 1px 3px 1px rgba(60, 64, 67, 0.15);\n",
              "      fill: #174EA6;\n",
              "    }\n",
              "\n",
              "    [theme=dark] .colab-df-convert {\n",
              "      background-color: #3B4455;\n",
              "      fill: #D2E3FC;\n",
              "    }\n",
              "\n",
              "    [theme=dark] .colab-df-convert:hover {\n",
              "      background-color: #434B5C;\n",
              "      box-shadow: 0px 1px 3px 1px rgba(0, 0, 0, 0.15);\n",
              "      filter: drop-shadow(0px 1px 2px rgba(0, 0, 0, 0.3));\n",
              "      fill: #FFFFFF;\n",
              "    }\n",
              "  </style>\n",
              "\n",
              "      <script>\n",
              "        const buttonEl =\n",
              "          document.querySelector('#df-80dea2d1-0cbd-4cd6-b6a9-cdcdb334c956 button.colab-df-convert');\n",
              "        buttonEl.style.display =\n",
              "          google.colab.kernel.accessAllowed ? 'block' : 'none';\n",
              "\n",
              "        async function convertToInteractive(key) {\n",
              "          const element = document.querySelector('#df-80dea2d1-0cbd-4cd6-b6a9-cdcdb334c956');\n",
              "          const dataTable =\n",
              "            await google.colab.kernel.invokeFunction('convertToInteractive',\n",
              "                                                     [key], {});\n",
              "          if (!dataTable) return;\n",
              "\n",
              "          const docLinkHtml = 'Like what you see? Visit the ' +\n",
              "            '<a target=\"_blank\" href=https://colab.research.google.com/notebooks/data_table.ipynb>data table notebook</a>'\n",
              "            + ' to learn more about interactive tables.';\n",
              "          element.innerHTML = '';\n",
              "          dataTable['output_type'] = 'display_data';\n",
              "          await google.colab.output.renderOutput(dataTable, element);\n",
              "          const docLink = document.createElement('div');\n",
              "          docLink.innerHTML = docLinkHtml;\n",
              "          element.appendChild(docLink);\n",
              "        }\n",
              "      </script>\n",
              "    </div>\n",
              "  </div>\n",
              "  "
            ]
          },
          "metadata": {},
          "execution_count": 50
        }
      ],
      "source": [
        "lines.head()"
      ]
    },
    {
      "cell_type": "code",
      "execution_count": 51,
      "metadata": {
        "colab": {
          "base_uri": "https://localhost:8080/"
        },
        "id": "CdDRsdh_dazX",
        "outputId": "34d9a2e7-4578-49de-8867-2ecf61084335"
      },
      "outputs": [
        {
          "output_type": "execute_result",
          "data": {
            "text/plain": [
              "(174481, 2)"
            ]
          },
          "metadata": {},
          "execution_count": 51
        }
      ],
      "source": [
        "lines.shape"
      ]
    },
    {
      "cell_type": "code",
      "execution_count": 52,
      "metadata": {
        "colab": {
          "base_uri": "https://localhost:8080/"
        },
        "id": "O4OxGPuZdgMk",
        "outputId": "8e516ed7-310b-4eb2-cd72-b752432ee2f8"
      },
      "outputs": [
        {
          "output_type": "execute_result",
          "data": {
            "text/plain": [
              "(30000, 2)"
            ]
          },
          "metadata": {},
          "execution_count": 52
        }
      ],
      "source": [
        "lines = lines[: 30000]\n",
        "lines.shape"
      ]
    },
    {
      "cell_type": "code",
      "execution_count": 53,
      "metadata": {
        "id": "KheYLDjLakMw",
        "colab": {
          "base_uri": "https://localhost:8080/"
        },
        "outputId": "78fa5feb-175a-4e1c-c421-687dde64a5ef"
      },
      "outputs": [
        {
          "output_type": "stream",
          "name": "stderr",
          "text": [
            "<ipython-input-53-f64fdf47f9c4>:1: SettingWithCopyWarning: \n",
            "A value is trying to be set on a copy of a slice from a DataFrame.\n",
            "Try using .loc[row_indexer,col_indexer] = value instead\n",
            "\n",
            "See the caveats in the documentation: https://pandas.pydata.org/pandas-docs/stable/user_guide/indexing.html#returning-a-view-versus-a-copy\n",
            "  lines['eng'] = lines['eng'].apply(lambda x: x.lower())\n",
            "<ipython-input-53-f64fdf47f9c4>:2: SettingWithCopyWarning: \n",
            "A value is trying to be set on a copy of a slice from a DataFrame.\n",
            "Try using .loc[row_indexer,col_indexer] = value instead\n",
            "\n",
            "See the caveats in the documentation: https://pandas.pydata.org/pandas-docs/stable/user_guide/indexing.html#returning-a-view-versus-a-copy\n",
            "  lines['fr'] = lines['fr'].apply(lambda x: x.lower())\n"
          ]
        }
      ],
      "source": [
        "lines['eng'] = lines['eng'].apply(lambda x: x.lower())\n",
        "lines['fr'] = lines['fr'].apply(lambda x: x.lower())"
      ]
    },
    {
      "cell_type": "code",
      "execution_count": 54,
      "metadata": {
        "id": "2yfq-WljakJF",
        "colab": {
          "base_uri": "https://localhost:8080/"
        },
        "outputId": "b7e359a7-e068-4206-8905-cc033dbf6cda"
      },
      "outputs": [
        {
          "output_type": "stream",
          "name": "stderr",
          "text": [
            "<ipython-input-54-aa1ee821a90a>:2: SettingWithCopyWarning: \n",
            "A value is trying to be set on a copy of a slice from a DataFrame.\n",
            "Try using .loc[row_indexer,col_indexer] = value instead\n",
            "\n",
            "See the caveats in the documentation: https://pandas.pydata.org/pandas-docs/stable/user_guide/indexing.html#returning-a-view-versus-a-copy\n",
            "  lines.eng=lines.eng.apply(lambda x: re.sub(\"'\", '', x)).apply(lambda x: re.sub(\",\", ' COMMA', x))\n",
            "<ipython-input-54-aa1ee821a90a>:3: SettingWithCopyWarning: \n",
            "A value is trying to be set on a copy of a slice from a DataFrame.\n",
            "Try using .loc[row_indexer,col_indexer] = value instead\n",
            "\n",
            "See the caveats in the documentation: https://pandas.pydata.org/pandas-docs/stable/user_guide/indexing.html#returning-a-view-versus-a-copy\n",
            "  lines.fr=lines.fr.apply(lambda x: re.sub(\"'\", '', x)).apply(lambda x: re.sub(\",\", ' COMMA', x))\n"
          ]
        }
      ],
      "source": [
        "# Take the length as 50\n",
        "lines.eng=lines.eng.apply(lambda x: re.sub(\"'\", '', x)).apply(lambda x: re.sub(\",\", ' COMMA', x))\n",
        "lines.fr=lines.fr.apply(lambda x: re.sub(\"'\", '', x)).apply(lambda x: re.sub(\",\", ' COMMA', x))"
      ]
    },
    {
      "cell_type": "code",
      "execution_count": 55,
      "metadata": {
        "id": "TUO5yJBQakGC",
        "colab": {
          "base_uri": "https://localhost:8080/"
        },
        "outputId": "012f512d-7704-4a63-889e-3b763b767ead"
      },
      "outputs": [
        {
          "output_type": "stream",
          "name": "stderr",
          "text": [
            "<ipython-input-55-d1579126b0ef>:2: SettingWithCopyWarning: \n",
            "A value is trying to be set on a copy of a slice from a DataFrame.\n",
            "Try using .loc[row_indexer,col_indexer] = value instead\n",
            "\n",
            "See the caveats in the documentation: https://pandas.pydata.org/pandas-docs/stable/user_guide/indexing.html#returning-a-view-versus-a-copy\n",
            "  lines.eng=lines.eng.apply(lambda x: ''.join(ch for ch in x if ch not in exclude))\n"
          ]
        }
      ],
      "source": [
        "exclude = set(string.punctuation)\n",
        "lines.eng=lines.eng.apply(lambda x: ''.join(ch for ch in x if ch not in exclude))\n",
        "lines.fr=lines.fr.apply(lambda x: ''.join(ch for ch in x if ch not in exclude))"
      ]
    },
    {
      "cell_type": "code",
      "execution_count": 56,
      "metadata": {
        "id": "Jt3Ors9fakBC"
      },
      "outputs": [],
      "source": [
        "remove_digits = str.maketrans('', '', digits)\n",
        "lines.eng=lines.eng.apply(lambda x: x.translate(remove_digits))\n",
        "lines.fr=lines.fr.apply(lambda x: x.translate(remove_digits))"
      ]
    },
    {
      "cell_type": "code",
      "execution_count": 57,
      "metadata": {
        "colab": {
          "base_uri": "https://localhost:8080/",
          "height": 206
        },
        "id": "0obLsZEn5N2A",
        "outputId": "5fe80822-a6d2-4ae4-b382-65b2c75a3337"
      },
      "outputs": [
        {
          "output_type": "execute_result",
          "data": {
            "text/plain": [
              "   eng       fr\n",
              "0   go      va \n",
              "1   hi   salut \n",
              "2   hi    salut\n",
              "3  run   cours \n",
              "4  run  courez "
            ],
            "text/html": [
              "\n",
              "  <div id=\"df-72d1ef68-554d-4b7d-b74e-bd581a04b32d\">\n",
              "    <div class=\"colab-df-container\">\n",
              "      <div>\n",
              "<style scoped>\n",
              "    .dataframe tbody tr th:only-of-type {\n",
              "        vertical-align: middle;\n",
              "    }\n",
              "\n",
              "    .dataframe tbody tr th {\n",
              "        vertical-align: top;\n",
              "    }\n",
              "\n",
              "    .dataframe thead th {\n",
              "        text-align: right;\n",
              "    }\n",
              "</style>\n",
              "<table border=\"1\" class=\"dataframe\">\n",
              "  <thead>\n",
              "    <tr style=\"text-align: right;\">\n",
              "      <th></th>\n",
              "      <th>eng</th>\n",
              "      <th>fr</th>\n",
              "    </tr>\n",
              "  </thead>\n",
              "  <tbody>\n",
              "    <tr>\n",
              "      <th>0</th>\n",
              "      <td>go</td>\n",
              "      <td>va</td>\n",
              "    </tr>\n",
              "    <tr>\n",
              "      <th>1</th>\n",
              "      <td>hi</td>\n",
              "      <td>salut</td>\n",
              "    </tr>\n",
              "    <tr>\n",
              "      <th>2</th>\n",
              "      <td>hi</td>\n",
              "      <td>salut</td>\n",
              "    </tr>\n",
              "    <tr>\n",
              "      <th>3</th>\n",
              "      <td>run</td>\n",
              "      <td>cours</td>\n",
              "    </tr>\n",
              "    <tr>\n",
              "      <th>4</th>\n",
              "      <td>run</td>\n",
              "      <td>courez</td>\n",
              "    </tr>\n",
              "  </tbody>\n",
              "</table>\n",
              "</div>\n",
              "      <button class=\"colab-df-convert\" onclick=\"convertToInteractive('df-72d1ef68-554d-4b7d-b74e-bd581a04b32d')\"\n",
              "              title=\"Convert this dataframe to an interactive table.\"\n",
              "              style=\"display:none;\">\n",
              "        \n",
              "  <svg xmlns=\"http://www.w3.org/2000/svg\" height=\"24px\"viewBox=\"0 0 24 24\"\n",
              "       width=\"24px\">\n",
              "    <path d=\"M0 0h24v24H0V0z\" fill=\"none\"/>\n",
              "    <path d=\"M18.56 5.44l.94 2.06.94-2.06 2.06-.94-2.06-.94-.94-2.06-.94 2.06-2.06.94zm-11 1L8.5 8.5l.94-2.06 2.06-.94-2.06-.94L8.5 2.5l-.94 2.06-2.06.94zm10 10l.94 2.06.94-2.06 2.06-.94-2.06-.94-.94-2.06-.94 2.06-2.06.94z\"/><path d=\"M17.41 7.96l-1.37-1.37c-.4-.4-.92-.59-1.43-.59-.52 0-1.04.2-1.43.59L10.3 9.45l-7.72 7.72c-.78.78-.78 2.05 0 2.83L4 21.41c.39.39.9.59 1.41.59.51 0 1.02-.2 1.41-.59l7.78-7.78 2.81-2.81c.8-.78.8-2.07 0-2.86zM5.41 20L4 18.59l7.72-7.72 1.47 1.35L5.41 20z\"/>\n",
              "  </svg>\n",
              "      </button>\n",
              "      \n",
              "  <style>\n",
              "    .colab-df-container {\n",
              "      display:flex;\n",
              "      flex-wrap:wrap;\n",
              "      gap: 12px;\n",
              "    }\n",
              "\n",
              "    .colab-df-convert {\n",
              "      background-color: #E8F0FE;\n",
              "      border: none;\n",
              "      border-radius: 50%;\n",
              "      cursor: pointer;\n",
              "      display: none;\n",
              "      fill: #1967D2;\n",
              "      height: 32px;\n",
              "      padding: 0 0 0 0;\n",
              "      width: 32px;\n",
              "    }\n",
              "\n",
              "    .colab-df-convert:hover {\n",
              "      background-color: #E2EBFA;\n",
              "      box-shadow: 0px 1px 2px rgba(60, 64, 67, 0.3), 0px 1px 3px 1px rgba(60, 64, 67, 0.15);\n",
              "      fill: #174EA6;\n",
              "    }\n",
              "\n",
              "    [theme=dark] .colab-df-convert {\n",
              "      background-color: #3B4455;\n",
              "      fill: #D2E3FC;\n",
              "    }\n",
              "\n",
              "    [theme=dark] .colab-df-convert:hover {\n",
              "      background-color: #434B5C;\n",
              "      box-shadow: 0px 1px 3px 1px rgba(0, 0, 0, 0.15);\n",
              "      filter: drop-shadow(0px 1px 2px rgba(0, 0, 0, 0.3));\n",
              "      fill: #FFFFFF;\n",
              "    }\n",
              "  </style>\n",
              "\n",
              "      <script>\n",
              "        const buttonEl =\n",
              "          document.querySelector('#df-72d1ef68-554d-4b7d-b74e-bd581a04b32d button.colab-df-convert');\n",
              "        buttonEl.style.display =\n",
              "          google.colab.kernel.accessAllowed ? 'block' : 'none';\n",
              "\n",
              "        async function convertToInteractive(key) {\n",
              "          const element = document.querySelector('#df-72d1ef68-554d-4b7d-b74e-bd581a04b32d');\n",
              "          const dataTable =\n",
              "            await google.colab.kernel.invokeFunction('convertToInteractive',\n",
              "                                                     [key], {});\n",
              "          if (!dataTable) return;\n",
              "\n",
              "          const docLinkHtml = 'Like what you see? Visit the ' +\n",
              "            '<a target=\"_blank\" href=https://colab.research.google.com/notebooks/data_table.ipynb>data table notebook</a>'\n",
              "            + ' to learn more about interactive tables.';\n",
              "          element.innerHTML = '';\n",
              "          dataTable['output_type'] = 'display_data';\n",
              "          await google.colab.output.renderOutput(dataTable, element);\n",
              "          const docLink = document.createElement('div');\n",
              "          docLink.innerHTML = docLinkHtml;\n",
              "          element.appendChild(docLink);\n",
              "        }\n",
              "      </script>\n",
              "    </div>\n",
              "  </div>\n",
              "  "
            ]
          },
          "metadata": {},
          "execution_count": 57
        }
      ],
      "source": [
        "lines.head()"
      ]
    },
    {
      "cell_type": "markdown",
      "metadata": {
        "id": "yPazvZZN5N2A"
      },
      "source": [
        "#### Generate synthetic data"
      ]
    },
    {
      "cell_type": "code",
      "execution_count": 58,
      "metadata": {
        "id": "W_DvSP1abDyr"
      },
      "outputs": [],
      "source": [
        "lines['fr'] = lines['fr'].apply(lambda x: '<sos> ' + x + ' <eos>')"
      ]
    },
    {
      "cell_type": "code",
      "execution_count": 59,
      "metadata": {
        "colab": {
          "base_uri": "https://localhost:8080/"
        },
        "id": "Vj19Zg6KbDtI",
        "outputId": "af88e1b8-113c-44fa-afad-e02c73b5cf8a"
      },
      "outputs": [
        {
          "output_type": "stream",
          "name": "stdout",
          "text": [
            "Total unique words in source: 4434\n",
            "Total unique words in target: 9234\n"
          ]
        }
      ],
      "source": [
        "all_source_words = set()\n",
        "for sent in lines['eng']:\n",
        "    for word in sent.split():\n",
        "        if word not in all_source_words:\n",
        "            all_source_words.add(word)\n",
        "print(f'Total unique words in source: {len(all_source_words)}')\n",
        "source_words = sorted(all_source_words)\n",
        "\n",
        "all_target_words = set()\n",
        "for sent in lines['fr']:\n",
        "    for word in sent.split():\n",
        "        if word not in all_target_words:\n",
        "            all_target_words.add(word)\n",
        "print(f'Total unique words in target: {len(all_target_words)}')\n",
        "target_words = set(all_target_words)"
      ]
    },
    {
      "cell_type": "code",
      "execution_count": 60,
      "metadata": {
        "colab": {
          "base_uri": "https://localhost:8080/"
        },
        "id": "pEeXJcktbDoI",
        "outputId": "150e1fa5-f2eb-4ff8-8b9c-78c80460b586"
      },
      "outputs": [
        {
          "output_type": "stream",
          "name": "stdout",
          "text": [
            "Max Length of the sentence in the source: 6\n",
            "Max Length of the sentence in the target: 14\n"
          ]
        }
      ],
      "source": [
        "source_lenght_list=[]\n",
        "for l in lines.eng:\n",
        "    source_lenght_list.append(len(l.split(' ')))\n",
        "print(f'Max Length of the sentence in the source: {max(source_lenght_list)}')\n",
        "max_source_length = max(source_lenght_list)\n",
        "\n",
        "target_lenght_list=[]\n",
        "for l in lines.fr:\n",
        "    target_lenght_list.append(len(l.split(' ')))\n",
        "print(f'Max Length of the sentence in the target: {max(target_lenght_list)}')\n",
        "max_target_length = max(target_lenght_list)"
      ]
    },
    {
      "cell_type": "code",
      "execution_count": 61,
      "metadata": {
        "id": "ZHfzzN0dbDeT"
      },
      "outputs": [],
      "source": [
        "# this can be done using tokenizer also\n",
        "\n",
        "source_word2idx = dict(\n",
        "    [(word, index+1) for index, word in enumerate(source_words)]\n",
        "     )\n",
        "\n",
        "target_word2idx = dict(\n",
        "    [(word, index+1) for index, word in enumerate(target_words)]\n",
        "    )"
      ]
    },
    {
      "cell_type": "code",
      "source": [
        "target_word2idx['<sos>']"
      ],
      "metadata": {
        "colab": {
          "base_uri": "https://localhost:8080/"
        },
        "id": "NfK7AI7HBy0a",
        "outputId": "c2a06304-c132-4161-fd31-f4bf8fb217ca"
      },
      "execution_count": 62,
      "outputs": [
        {
          "output_type": "execute_result",
          "data": {
            "text/plain": [
              "7846"
            ]
          },
          "metadata": {},
          "execution_count": 62
        }
      ]
    },
    {
      "cell_type": "code",
      "execution_count": 63,
      "metadata": {
        "id": "A0Q37Xo0FSLf"
      },
      "outputs": [],
      "source": [
        "# creating dict for index to word for source and target lang for inference\n",
        "source_idx2word = dict([\n",
        "    (idx, word) for word, idx in source_word2idx.items()\n",
        "])\n",
        "\n",
        "target_idx2word = dict([\n",
        "    (idx, word) for word, idx in target_word2idx.items()\n",
        "])"
      ]
    },
    {
      "cell_type": "code",
      "source": [
        "import json\n",
        "with open('/content/drive/MyDrive/Machine Translation Keras/source_idx2word.json', 'w') as f:\n",
        "    json.dump(source_idx2word, f)"
      ],
      "metadata": {
        "id": "0yHZWcwGCXQ6"
      },
      "execution_count": 64,
      "outputs": []
    },
    {
      "cell_type": "code",
      "source": [
        "with open('/content/drive/MyDrive/Machine Translation Keras/target_idx2word.json', 'w') as f:\n",
        "    json.dump(target_idx2word, f)"
      ],
      "metadata": {
        "id": "lA3yZNufClUG"
      },
      "execution_count": 65,
      "outputs": []
    },
    {
      "cell_type": "code",
      "execution_count": 66,
      "metadata": {
        "id": "5w_4wWAsFSIz"
      },
      "outputs": [],
      "source": [
        "# splitting data\n",
        "from sklearn.model_selection import train_test_split\n",
        "\n",
        "X, y = lines.eng, lines.fr\n",
        "X_train, X_test, y_train, y_test = train_test_split(X, y, test_size = 0.1)"
      ]
    },
    {
      "cell_type": "code",
      "execution_count": 67,
      "metadata": {
        "id": "Vsb2Qtc1FSGO"
      },
      "outputs": [],
      "source": [
        "# Input tokens for encoder\n",
        "num_encoder_tokens=len(source_words)\n",
        "# Input tokens for decoder zero padded\n",
        "num_decoder_tokens=len(target_words) +1"
      ]
    },
    {
      "cell_type": "code",
      "execution_count": 68,
      "metadata": {
        "id": "w-l4eBvJFSD3"
      },
      "outputs": [],
      "source": [
        "def generate_batch(X = X_train, y = y_train, batch_size = 128):\n",
        "    ''' Generate a batch of data '''\n",
        "    while True:\n",
        "        for j in range(0, len(X), batch_size):\n",
        "            encoder_input_data = np.zeros((batch_size, max_source_length),dtype='float32')\n",
        "            decoder_input_data = np.zeros((batch_size, max_target_length),dtype='float32')\n",
        "            decoder_target_data = np.zeros((batch_size, max_target_length, num_decoder_tokens),dtype='float32')\n",
        "            \n",
        "            for i, (input_text, target_text) in enumerate(zip(X[j:j+batch_size], y[j:j+batch_size])):\n",
        "                for t, word in enumerate(input_text.split()):\n",
        "                    encoder_input_data[i, t] = source_word2idx[word] \n",
        "                for t, word in enumerate(target_text.split()):\n",
        "                    if t<len(target_text.split())-1:\n",
        "                        decoder_input_data[i, t] = target_word2idx[word] # decoder input seq\n",
        "                    if t>0:\n",
        "                        # decoder target sequence (one hot encoded)\n",
        "                        # does not include the START_ token\n",
        "                        # Offset by one timestep\n",
        "                        #print(word)\n",
        "                        decoder_target_data[i, t - 1, target_word2idx[word]] = 1.\n",
        "                    \n",
        "            yield([encoder_input_data, decoder_input_data], decoder_target_data)"
      ]
    },
    {
      "cell_type": "markdown",
      "metadata": {
        "id": "hgSe9lQprLv2"
      },
      "source": [
        "# Model building"
      ]
    },
    {
      "cell_type": "code",
      "source": [
        "# del model"
      ],
      "metadata": {
        "id": "y7hfgUIe4iSu"
      },
      "execution_count": 69,
      "outputs": []
    },
    {
      "cell_type": "code",
      "execution_count": 70,
      "metadata": {
        "id": "4M_m-9bzpuSh"
      },
      "outputs": [],
      "source": [
        "train_samples = len(X_train)\n",
        "val_samples = len(X_test)\n",
        "batch_size = 128\n",
        "epochs = 50\n",
        "latent_dim=256"
      ]
    },
    {
      "cell_type": "code",
      "execution_count": 71,
      "metadata": {
        "colab": {
          "base_uri": "https://localhost:8080/"
        },
        "id": "VZG-WfD4ARCe",
        "outputId": "6bb988e4-c076-4f65-9bcf-36af2f53704b"
      },
      "outputs": [
        {
          "output_type": "execute_result",
          "data": {
            "text/plain": [
              "(4434, 9235)"
            ]
          },
          "metadata": {},
          "execution_count": 71
        }
      ],
      "source": [
        "num_encoder_tokens, num_decoder_tokens"
      ]
    },
    {
      "cell_type": "code",
      "execution_count": 72,
      "metadata": {
        "id": "3cRE7I16i6zD"
      },
      "outputs": [],
      "source": [
        "import keras\n",
        "from keras.models import Model\n",
        "from keras.layers import Input, Embedding, LSTM, Dense"
      ]
    },
    {
      "cell_type": "code",
      "execution_count": 73,
      "metadata": {
        "id": "QDj217dKrPWd"
      },
      "outputs": [],
      "source": [
        "encode_inputs = Input(shape = (None,), name = 'encoder_input')\n",
        "enc_embedding = Embedding(num_encoder_tokens + 1, 256, name = 'encoder_embedding')(encode_inputs)\n",
        "\n",
        "encoder_lstm = LSTM(256, return_state = True, name = 'encoder_lstm')\n",
        "encoder_out, state_h, state_c = encoder_lstm(enc_embedding) \n",
        "\n",
        "encoder_states = [state_h, state_c]"
      ]
    },
    {
      "cell_type": "code",
      "execution_count": 74,
      "metadata": {
        "colab": {
          "base_uri": "https://localhost:8080/"
        },
        "id": "_YZqIDBhSY5j",
        "outputId": "305acabe-caf9-49a0-8bd6-70299601f42e"
      },
      "outputs": [
        {
          "output_type": "execute_result",
          "data": {
            "text/plain": [
              "[<KerasTensor: shape=(None, 256) dtype=float32 (created by layer 'encoder_lstm')>,\n",
              " <KerasTensor: shape=(None, 256) dtype=float32 (created by layer 'encoder_lstm')>]"
            ]
          },
          "metadata": {},
          "execution_count": 74
        }
      ],
      "source": [
        "encoder_states"
      ]
    },
    {
      "cell_type": "code",
      "execution_count": 75,
      "metadata": {
        "id": "dYSPp7tx_ZdY"
      },
      "outputs": [],
      "source": [
        "# building decoder\n",
        "# decoder_inputs = Input(shape = (None, ))\n",
        "# decoder_embedding = Embedding(num_decoder_tokens + 1, latent_dim, mask_zero = True)#(decoder_inputs)\n",
        "# dec_emb = decoder_embedding(decoder_inputs)\n",
        "\n",
        "decoder_inputs = Input(shape=(None,), name = 'decoder_input')\n",
        "dec_emb_layer = Embedding(num_decoder_tokens, latent_dim, mask_zero = True, name = 'decoder_embedding')\n",
        "dec_emb = dec_emb_layer(decoder_inputs)\n",
        "\n",
        "decoder_lstm = LSTM(latent_dim, return_sequences = True, return_state = True, name = 'decoder_lstm')\n",
        "\n",
        "decoder_outputs, _, _ = decoder_lstm(dec_emb, initial_state = encoder_states)\n",
        "\n",
        "decoder_dense = Dense(num_decoder_tokens, activation = 'softmax')\n",
        "\n",
        "decoder_outputs = decoder_dense(decoder_outputs)"
      ]
    },
    {
      "cell_type": "code",
      "execution_count": 76,
      "metadata": {
        "id": "pq2hOspfEzLx"
      },
      "outputs": [],
      "source": [
        "model = Model([encode_inputs, decoder_inputs], decoder_outputs)"
      ]
    },
    {
      "cell_type": "code",
      "execution_count": 77,
      "metadata": {
        "colab": {
          "base_uri": "https://localhost:8080/",
          "height": 533
        },
        "id": "cdK_vhD5FOAe",
        "outputId": "6d7cb7cf-529c-4db9-c58d-e344038aeed2"
      },
      "outputs": [
        {
          "output_type": "execute_result",
          "data": {
            "image/png": "[encoded data removed]",
            "text/plain": [
              "<IPython.core.display.Image object>"
            ]
          },
          "metadata": {},
          "execution_count": 77
        }
      ],
      "source": [
        "from keras.utils import plot_model\n",
        "plot_model(model, to_file='/content/drive/MyDrive/Machine Translation Keras/model_plot_dec.png', show_shapes=True, show_layer_names=True)"
      ]
    },
    {
      "cell_type": "code",
      "source": [
        "model.summary()"
      ],
      "metadata": {
        "colab": {
          "base_uri": "https://localhost:8080/"
        },
        "id": "czuWHOCZybq0",
        "outputId": "c09ba54f-8438-46ea-f1af-ccde57182fbe"
      },
      "execution_count": 78,
      "outputs": [
        {
          "output_type": "stream",
          "name": "stdout",
          "text": [
            "Model: \"model_3\"\n",
            "__________________________________________________________________________________________________\n",
            " Layer (type)                   Output Shape         Param #     Connected to                     \n",
            "==================================================================================================\n",
            " encoder_input (InputLayer)     [(None, None)]       0           []                               \n",
            "                                                                                                  \n",
            " decoder_input (InputLayer)     [(None, None)]       0           []                               \n",
            "                                                                                                  \n",
            " encoder_embedding (Embedding)  (None, None, 256)    1135360     ['encoder_input[0][0]']          \n",
            "                                                                                                  \n",
            " decoder_embedding (Embedding)  (None, None, 256)    2364160     ['decoder_input[0][0]']          \n",
            "                                                                                                  \n",
            " encoder_lstm (LSTM)            [(None, 256),        525312      ['encoder_embedding[0][0]']      \n",
            "                                 (None, 256),                                                     \n",
            "                                 (None, 256)]                                                     \n",
            "                                                                                                  \n",
            " decoder_lstm (LSTM)            [(None, None, 256),  525312      ['decoder_embedding[0][0]',      \n",
            "                                 (None, 256),                     'encoder_lstm[0][1]',           \n",
            "                                 (None, 256)]                     'encoder_lstm[0][2]']           \n",
            "                                                                                                  \n",
            " dense_1 (Dense)                (None, None, 9235)   2373395     ['decoder_lstm[0][0]']           \n",
            "                                                                                                  \n",
            "==================================================================================================\n",
            "Total params: 6,923,539\n",
            "Trainable params: 6,923,539\n",
            "Non-trainable params: 0\n",
            "__________________________________________________________________________________________________\n"
          ]
        }
      ]
    },
    {
      "cell_type": "code",
      "execution_count": 79,
      "metadata": {
        "id": "sn1xncYVGhzO"
      },
      "outputs": [],
      "source": [
        "model.compile(optimizer = 'adam', loss = 'categorical_crossentropy', metrics = ['acc'])"
      ]
    },
    {
      "cell_type": "code",
      "execution_count": 98,
      "metadata": {
        "id": "46efJiCkTBYz"
      },
      "outputs": [],
      "source": [
        "train_samples = len(X_train) # Total Training samples\n",
        "val_samples = len(X_test)    # Total validation or test samples\n",
        "batch_size = 128\n",
        "epochs = 50"
      ]
    },
    {
      "cell_type": "code",
      "execution_count": 99,
      "metadata": {
        "colab": {
          "base_uri": "https://localhost:8080/"
        },
        "id": "EW4wYK9MTBlp",
        "outputId": "4561deda-7fca-4c46-ae5b-64aa29a26530"
      },
      "outputs": [
        {
          "output_type": "stream",
          "name": "stdout",
          "text": [
            "Epoch 1/50\n",
            "210/210 [==============================] - 174s 808ms/step - loss: 1.9753 - acc: 0.5858 - val_loss: 2.8246 - val_acc: 0.5396\n",
            "Epoch 2/50\n",
            "210/210 [==============================] - 166s 791ms/step - loss: 1.8214 - acc: 0.6063 - val_loss: 2.7628 - val_acc: 0.5506\n",
            "Epoch 3/50\n",
            "210/210 [==============================] - 167s 797ms/step - loss: 1.6840 - acc: 0.6260 - val_loss: 2.7249 - val_acc: 0.5574\n",
            "Epoch 4/50\n",
            "210/210 [==============================] - 166s 790ms/step - loss: 1.5564 - acc: 0.6457 - val_loss: 2.6888 - val_acc: 0.5627\n",
            "Epoch 5/50\n",
            "210/210 [==============================] - 167s 793ms/step - loss: 1.4388 - acc: 0.6643 - val_loss: 2.6401 - val_acc: 0.5694\n",
            "Epoch 6/50\n",
            "210/210 [==============================] - 165s 788ms/step - loss: 1.3250 - acc: 0.6853 - val_loss: 2.6144 - val_acc: 0.5705\n",
            "Epoch 7/50\n",
            "210/210 [==============================] - 168s 799ms/step - loss: 1.2144 - acc: 0.7064 - val_loss: 2.5815 - val_acc: 0.5775\n",
            "Epoch 8/50\n",
            "210/210 [==============================] - 167s 798ms/step - loss: 1.1132 - acc: 0.7262 - val_loss: 2.5516 - val_acc: 0.5840\n",
            "Epoch 9/50\n",
            "210/210 [==============================] - 169s 803ms/step - loss: 1.0221 - acc: 0.7459 - val_loss: 2.5330 - val_acc: 0.5870\n",
            "Epoch 10/50\n",
            "210/210 [==============================] - 168s 799ms/step - loss: 0.9406 - acc: 0.7642 - val_loss: 2.5093 - val_acc: 0.5915\n",
            "Epoch 11/50\n",
            "210/210 [==============================] - 168s 799ms/step - loss: 0.8650 - acc: 0.7807 - val_loss: 2.5043 - val_acc: 0.5940\n",
            "Epoch 12/50\n",
            "210/210 [==============================] - 169s 805ms/step - loss: 0.7959 - acc: 0.7973 - val_loss: 2.4902 - val_acc: 0.5988\n",
            "Epoch 13/50\n",
            "210/210 [==============================] - 167s 793ms/step - loss: 0.7348 - acc: 0.8108 - val_loss: 2.4840 - val_acc: 0.6012\n",
            "Epoch 14/50\n",
            "210/210 [==============================] - 169s 804ms/step - loss: 0.6750 - acc: 0.8237 - val_loss: 2.4862 - val_acc: 0.6061\n",
            "Epoch 15/50\n",
            "210/210 [==============================] - 166s 791ms/step - loss: 0.6228 - acc: 0.8354 - val_loss: 2.4838 - val_acc: 0.6103\n",
            "Epoch 16/50\n",
            "210/210 [==============================] - 168s 799ms/step - loss: 0.5741 - acc: 0.8467 - val_loss: 2.4951 - val_acc: 0.6137\n",
            "Epoch 17/50\n",
            "210/210 [==============================] - 168s 801ms/step - loss: 0.5339 - acc: 0.8563 - val_loss: 2.4961 - val_acc: 0.6156\n",
            "Epoch 18/50\n",
            "210/210 [==============================] - 169s 804ms/step - loss: 0.4967 - acc: 0.8638 - val_loss: 2.5033 - val_acc: 0.6162\n",
            "Epoch 19/50\n",
            "210/210 [==============================] - 165s 786ms/step - loss: 0.4627 - acc: 0.8711 - val_loss: 2.5048 - val_acc: 0.6172\n",
            "Epoch 20/50\n",
            "210/210 [==============================] - 166s 792ms/step - loss: 0.4333 - acc: 0.8769 - val_loss: 2.5142 - val_acc: 0.6193\n",
            "Epoch 21/50\n",
            "210/210 [==============================] - 192s 913ms/step - loss: 0.4072 - acc: 0.8821 - val_loss: 2.5348 - val_acc: 0.6151\n",
            "Epoch 22/50\n",
            "210/210 [==============================] - 174s 824ms/step - loss: 0.3821 - acc: 0.8879 - val_loss: 2.5493 - val_acc: 0.6144\n",
            "Epoch 23/50\n",
            "210/210 [==============================] - 171s 815ms/step - loss: 0.3589 - acc: 0.8928 - val_loss: 2.5471 - val_acc: 0.6186\n",
            "Epoch 24/50\n",
            "210/210 [==============================] - 169s 805ms/step - loss: 0.3387 - acc: 0.8970 - val_loss: 2.5715 - val_acc: 0.6172\n",
            "Epoch 25/50\n",
            "210/210 [==============================] - 169s 803ms/step - loss: 0.3221 - acc: 0.9010 - val_loss: 2.5833 - val_acc: 0.6163\n",
            "Epoch 26/50\n",
            "210/210 [==============================] - 169s 805ms/step - loss: 0.3071 - acc: 0.9042 - val_loss: 2.6011 - val_acc: 0.6150\n",
            "Epoch 27/50\n",
            "210/210 [==============================] - 169s 805ms/step - loss: 0.2922 - acc: 0.9078 - val_loss: 2.6167 - val_acc: 0.6146\n",
            "Epoch 28/50\n",
            "210/210 [==============================] - 173s 822ms/step - loss: 0.2792 - acc: 0.9114 - val_loss: 2.6534 - val_acc: 0.6078\n",
            "Epoch 29/50\n",
            "210/210 [==============================] - 170s 808ms/step - loss: 0.2671 - acc: 0.9129 - val_loss: 2.6583 - val_acc: 0.6092\n",
            "Epoch 30/50\n",
            "210/210 [==============================] - 170s 808ms/step - loss: 0.2547 - acc: 0.9161 - val_loss: 2.6651 - val_acc: 0.6126\n",
            "Epoch 31/50\n",
            "210/210 [==============================] - 170s 810ms/step - loss: 0.2426 - acc: 0.9188 - val_loss: 2.6884 - val_acc: 0.6131\n",
            "Epoch 32/50\n",
            "210/210 [==============================] - 169s 805ms/step - loss: 0.2317 - acc: 0.9215 - val_loss: 2.6954 - val_acc: 0.6151\n",
            "Epoch 33/50\n",
            "210/210 [==============================] - 170s 809ms/step - loss: 0.2225 - acc: 0.9244 - val_loss: 2.7061 - val_acc: 0.6148\n",
            "Epoch 34/50\n",
            "210/210 [==============================] - 168s 802ms/step - loss: 0.2155 - acc: 0.9266 - val_loss: 2.7186 - val_acc: 0.6163\n",
            "Epoch 35/50\n",
            "210/210 [==============================] - 171s 815ms/step - loss: 0.2094 - acc: 0.9278 - val_loss: 2.7363 - val_acc: 0.6156\n",
            "Epoch 36/50\n",
            "210/210 [==============================] - 169s 803ms/step - loss: 0.2042 - acc: 0.9294 - val_loss: 2.7558 - val_acc: 0.6145\n",
            "Epoch 37/50\n",
            "210/210 [==============================] - 171s 813ms/step - loss: 0.2002 - acc: 0.9295 - val_loss: 2.7775 - val_acc: 0.6129\n",
            "Epoch 38/50\n",
            "210/210 [==============================] - 169s 802ms/step - loss: 0.1954 - acc: 0.9313 - val_loss: 2.7961 - val_acc: 0.6118\n",
            "Epoch 39/50\n",
            "210/210 [==============================] - 172s 820ms/step - loss: 0.1907 - acc: 0.9321 - val_loss: 2.8211 - val_acc: 0.6123\n",
            "Epoch 40/50\n",
            "210/210 [==============================] - 170s 807ms/step - loss: 0.1878 - acc: 0.9327 - val_loss: 2.8537 - val_acc: 0.6126\n",
            "Epoch 41/50\n",
            "210/210 [==============================] - 172s 817ms/step - loss: 0.1843 - acc: 0.9336 - val_loss: 2.8467 - val_acc: 0.6158\n",
            "Epoch 42/50\n",
            "210/210 [==============================] - 171s 812ms/step - loss: 0.1806 - acc: 0.9340 - val_loss: 2.8470 - val_acc: 0.6145\n",
            "Epoch 43/50\n",
            "210/210 [==============================] - 169s 807ms/step - loss: 0.1782 - acc: 0.9346 - val_loss: 2.8786 - val_acc: 0.6128\n",
            "Epoch 44/50\n",
            "210/210 [==============================] - 170s 811ms/step - loss: 0.1758 - acc: 0.9352 - val_loss: 2.8946 - val_acc: 0.6161\n",
            "Epoch 45/50\n",
            "210/210 [==============================] - 169s 803ms/step - loss: 0.1736 - acc: 0.9350 - val_loss: 2.8986 - val_acc: 0.6180\n",
            "Epoch 46/50\n",
            "210/210 [==============================] - 170s 806ms/step - loss: 0.1699 - acc: 0.9366 - val_loss: 2.9064 - val_acc: 0.6183\n",
            "Epoch 47/50\n",
            "210/210 [==============================] - 170s 810ms/step - loss: 0.1673 - acc: 0.9372 - val_loss: 2.9212 - val_acc: 0.6145\n",
            "Epoch 48/50\n",
            "210/210 [==============================] - 170s 810ms/step - loss: 0.1629 - acc: 0.9380 - val_loss: 2.9510 - val_acc: 0.6142\n",
            "Epoch 49/50\n",
            "210/210 [==============================] - 170s 809ms/step - loss: 0.1616 - acc: 0.9376 - val_loss: 2.9728 - val_acc: 0.6115\n",
            "Epoch 50/50\n",
            "210/210 [==============================] - 168s 799ms/step - loss: 0.1595 - acc: 0.9385 - val_loss: 2.9993 - val_acc: 0.6149\n"
          ]
        }
      ],
      "source": [
        "history = model.fit(generate_batch(X_train, y_train, batch_size = batch_size),\n",
        "                    steps_per_epoch = train_samples//batch_size,\n",
        "                    epochs=epochs,\n",
        "                    validation_data = generate_batch(X_test, y_test, batch_size = batch_size),\n",
        "                    validation_steps = val_samples//batch_size)"
      ]
    },
    {
      "cell_type": "code",
      "source": [
        "plt.plot(history.history['acc'], label = 'train acc');\n",
        "plt.plot(history.history['val_acc'], label = 'val acc');\n",
        "plt.grid();\n",
        "plt.legend()"
      ],
      "metadata": {
        "id": "NoIFse6YcIWe",
        "outputId": "fddcbf85-5d84-456e-b755-d43fb236321c",
        "colab": {
          "base_uri": "https://localhost:8080/",
          "height": 447
        }
      },
      "execution_count": 102,
      "outputs": [
        {
          "output_type": "execute_result",
          "data": {
            "text/plain": [
              "<matplotlib.legend.Legend at 0x7f08497e1940>"
            ]
          },
          "metadata": {},
          "execution_count": 102
        },
        {
          "output_type": "display_data",
          "data": {
            "text/plain": [
              "<Figure size 640x480 with 1 Axes>"
            ],
            "image/png": "[encoded data removed]"
          },
          "metadata": {}
        }
      ]
    },
    {
      "cell_type": "code",
      "source": [
        "plt.plot(history.history['loss'], label = 'train loss');\n",
        "plt.plot(history.history['val_loss'], label = 'val loss');\n",
        "plt.legend();\n",
        "plt.grid()"
      ],
      "metadata": {
        "id": "e-pvda4ScXNx",
        "outputId": "c6f488ca-5939-411d-b596-c91b3006d30d",
        "colab": {
          "base_uri": "https://localhost:8080/",
          "height": 430
        }
      },
      "execution_count": 103,
      "outputs": [
        {
          "output_type": "display_data",
          "data": {
            "text/plain": [
              "<Figure size 640x480 with 1 Axes>"
            ],
            "image/png": "[encoded data removed]"
          },
          "metadata": {}
        }
      ]
    },
    {
      "cell_type": "code",
      "execution_count": 104,
      "metadata": {
        "id": "B7mN61ifTlNV"
      },
      "outputs": [],
      "source": [
        "model.save('/content/drive/MyDrive/Machine Translation Keras/nmt_50epochs.h5')"
      ]
    },
    {
      "cell_type": "code",
      "execution_count": 83,
      "metadata": {
        "id": "MerAPeXNAvhj"
      },
      "outputs": [],
      "source": [
        "# loading weights\n",
        "model_path = '/content/drive/MyDrive/Machine Translation Keras/nmt_weights_100epochs.h5'"
      ]
    },
    {
      "cell_type": "code",
      "execution_count": 84,
      "metadata": {
        "id": "qzD401cokDRr"
      },
      "outputs": [],
      "source": [
        "from keras.models import load_model"
      ]
    },
    {
      "cell_type": "code",
      "execution_count": 85,
      "metadata": {
        "id": "92z2qI25jMqE"
      },
      "outputs": [],
      "source": [
        "# model = load_model(model_path)"
      ]
    },
    {
      "cell_type": "code",
      "execution_count": null,
      "metadata": {
        "id": "yYP-xvcQjQrI"
      },
      "outputs": [],
      "source": [
        "# # encoder inputs\n",
        "# encoder_model = Model(encode_inputs, encoder_states)\n",
        "\n",
        "# # decoder model\n",
        "# # this will be placeholder for decoder states\n",
        "# decoder_state_input_h = Input(shape = (latent_dim, ))\n",
        "# decoder_state_input_c = Input(shape = (latent_dim, ))\n",
        "\n",
        "# decoder_state_input = [decoder_state_input_h, decoder_state_input_c]\n",
        "\n",
        "# decoder_embedding2 = dec_emb_layer(decoder_inputs)\n",
        "\n",
        "# # To predict the next word in the sequence, set the initial states to the states from the previous time step\n",
        "# decoder_outputs2, state_h2, state_c2 = decoder_lstm(decoder_embedding2, initial_state=decoder_state_input)\n",
        "\n",
        "# decoder_states2 = [state_h2, state_c2]\n",
        "# # A dense softmax layer to generate prob dist. over the target vocabulary\n",
        "# decoder_outputs2 = decoder_dense(decoder_outputs2)\n",
        "# # Final decoder model\n",
        "# decoder_model = Model([decoder_inputs] + decoder_state_input, [decoder_outputs2] + decoder_states2)"
      ]
    },
    {
      "cell_type": "code",
      "execution_count": null,
      "metadata": {
        "id": "uGpE3380o2AM"
      },
      "outputs": [],
      "source": [
        "# Encode the input sequence to get the \"Context vectors\"\n",
        "encoder_model = Model(encode_inputs, encoder_states)\n",
        "# Decoder setup\n",
        "# Below tensors will hold the states of the previous time step\n",
        "decoder_state_input_h = Input(shape=(latent_dim,))\n",
        "decoder_state_input_c = Input(shape=(latent_dim,))\n",
        "decoder_state_input = [decoder_state_input_h, decoder_state_input_c]\n",
        "# Get the embeddings of the decoder sequence\n",
        "dec_emb2= dec_emb_layer(decoder_inputs)\n",
        "# To predict the next word in the sequence, set the initial states to the states from the previous time step\n",
        "decoder_outputs2, state_h2, state_c2 = decoder_lstm(dec_emb2, initial_state=decoder_state_input)\n",
        "decoder_states2 = [state_h2, state_c2]\n",
        "# A dense softmax layer to generate prob dist. over the target vocabulary\n",
        "decoder_outputs2 = decoder_dense(decoder_outputs2)\n",
        "# Final decoder model\n",
        "decoder_model = Model(\n",
        "    [decoder_inputs] + decoder_state_input,\n",
        "    [decoder_outputs2] + decoder_states2)"
      ]
    },
    {
      "cell_type": "code",
      "source": [
        "def decode_sequence(input_seq):\n",
        "    # Encode the input as state vectors.\n",
        "    states_value = encoder_model.predict(input_seq)\n",
        "    # Generate empty target sequence of length 1.\n",
        "    target_seq = np.zeros((1,1))\n",
        "    # Populate the first character of \n",
        "    #target sequence with the start character.\n",
        "    target_seq[0, 0] = target_word2idx['<sos>']\n",
        "# Sampling loop for a batch of sequences\n",
        "    # (to simplify, here we assume a batch of size 1).\n",
        "    stop_condition = False\n",
        "    decoded_sentence = ''\n",
        "    while not stop_condition:\n",
        "        output_tokens, h, c = decoder_model.predict([target_seq] + states_value)\n",
        "# Sample a token\n",
        "        sampled_token_index = np.argmax(output_tokens[0, -1, :])\n",
        "        sampled_word =target_idx2word[sampled_token_index]\n",
        "        decoded_sentence += ' '+ sampled_word\n",
        "# Exit condition: either hit max length\n",
        "        # or find stop character.\n",
        "        if (sampled_word == '<eos>' or\n",
        "           len(decoded_sentence) > 50):\n",
        "            stop_condition = True\n",
        "# Update the target sequence (of length 1).\n",
        "        target_seq = np.zeros((1,1))\n",
        "        target_seq[0, 0] = sampled_token_index\n",
        "# Update states\n",
        "        states_value = [h, c]\n",
        "    return decoded_sentence"
      ],
      "metadata": {
        "id": "CRQc-TGyAvUt"
      },
      "execution_count": 107,
      "outputs": []
    },
    {
      "cell_type": "code",
      "source": [
        "# Make predictions on the training dataset\n",
        "train_gen = generate_batch(X_train, y_train, batch_size = 1)\n",
        "k=-1"
      ],
      "metadata": {
        "id": "-RDWTnhjA5fa"
      },
      "execution_count": 108,
      "outputs": []
    },
    {
      "cell_type": "code",
      "source": [
        "k+=1\n",
        "(input_seq, actual_output), _ = next(train_gen)\n",
        "decoded_sentence = decode_sequence(input_seq)\n",
        "print('Input Source sentence:', X_train[k:k+1].values[0])\n",
        "print('Actual Target Translation:', y_train[k:k+1].values[0][6:-4])\n",
        "print('Predicted Target Translation:', decoded_sentence[:-4])"
      ],
      "metadata": {
        "colab": {
          "base_uri": "https://localhost:8080/"
        },
        "id": "HsYiwVKjA8dp",
        "outputId": "f94df104-e491-447f-938d-d97690fb6309"
      },
      "execution_count": 109,
      "outputs": [
        {
          "output_type": "stream",
          "name": "stdout",
          "text": [
            "1/1 [==============================] - 0s 36ms/step\n",
            "1/1 [==============================] - 0s 23ms/step\n",
            "1/1 [==============================] - 0s 21ms/step\n",
            "1/1 [==============================] - 0s 22ms/step\n",
            "1/1 [==============================] - 0s 20ms/step\n",
            "1/1 [==============================] - 0s 19ms/step\n",
            "Input Source sentence: dont use that word\n",
            "Actual Target Translation: nemploie pas ce mot  <\n",
            "Predicted Target Translation:  nemployez pas ce mot <\n"
          ]
        }
      ]
    },
    {
      "cell_type": "code",
      "source": [
        "test_gen = generate_batch(X_test, y_test, batch_size = 1)\n",
        "k=10\n",
        "k+=1\n",
        "(input_seq, actual_output), _ = next(test_gen)\n",
        "decoded_sentence = decode_sequence(input_seq)\n",
        "print('Input Source sentence:', X_test[k:k+1].values[0])\n",
        "print('Actual Target Translation:', y_test[k:k+1].values[0][6:-4])\n",
        "print('Predicted Target Translation:', decoded_sentence[:-4])"
      ],
      "metadata": {
        "colab": {
          "base_uri": "https://localhost:8080/"
        },
        "id": "MIcbl9TRBAyy",
        "outputId": "081ad2f8-1012-49a5-c931-c08fdda2b7fa"
      },
      "execution_count": 110,
      "outputs": [
        {
          "output_type": "stream",
          "name": "stdout",
          "text": [
            "1/1 [==============================] - 0s 33ms/step\n",
            "1/1 [==============================] - 0s 26ms/step\n",
            "1/1 [==============================] - 0s 26ms/step\n",
            "1/1 [==============================] - 0s 26ms/step\n",
            "1/1 [==============================] - 0s 26ms/step\n",
            "1/1 [==============================] - 0s 25ms/step\n",
            "Input Source sentence: he was stunned\n",
            "Actual Target Translation: il a été paralysé <\n",
            "Predicted Target Translation:  elle était trop dure <\n"
          ]
        }
      ]
    },
    {
      "cell_type": "markdown",
      "source": [
        "### we get correct predictions on some results but few are wrong.\n",
        "    - The reason could be:\n",
        "        - More data is needed to train the model.\n",
        "        - Overfitting can be removed using mre data and hyperparameter tunung.\n",
        "        - BLEU score can be used to measure the accutacy of the model."
      ],
      "metadata": {
        "id": "ZkEnNdNb9a4x"
      }
    },
    {
      "cell_type": "code",
      "source": [
        "# loading weights\n",
        "# model_path = '/content/drive/MyDrive/Machine Translation Keras/nmt_weights_100epochs.h5'\n",
        "model.save('/content/drive/MyDrive/Machine Translation Keras/nmt_eng_fr')"
      ],
      "metadata": {
        "colab": {
          "base_uri": "https://localhost:8080/"
        },
        "id": "mnU0xyXt9yoY",
        "outputId": "348f83c2-d0fd-40aa-9992-d79266572196"
      },
      "execution_count": 111,
      "outputs": [
        {
          "output_type": "stream",
          "name": "stderr",
          "text": [
            "WARNING:absl:Found untraced functions such as _update_step_xla, lstm_cell_6_layer_call_fn, lstm_cell_6_layer_call_and_return_conditional_losses, lstm_cell_7_layer_call_fn, lstm_cell_7_layer_call_and_return_conditional_losses while saving (showing 5 of 5). These functions will not be directly callable after loading.\n"
          ]
        }
      ]
    },
    {
      "cell_type": "code",
      "source": [
        "# Loading and inferenceing model"
      ],
      "metadata": {
        "id": "vdswgKZQhGRk"
      },
      "execution_count": null,
      "outputs": []
    },
    {
      "cell_type": "code",
      "source": [
        "model = keras.models.load_model('/content/drive/MyDrive/Machine Translation Keras/nmt_50epochs.h5')\n",
        "\n",
        "# constructing the model layers\n",
        "encoder_inputs = model.input[0]\n",
        "encoder_output, state_h_enc, state_c_enc = model.layers[4].output\n",
        "encoder_states = [state_h_enc, state_c_enc]\n",
        "encoder_model = Model(encoder_inputs, encoder_states)\n",
        "\n",
        "\n",
        "decoder_inputs = model.input[1]\n",
        "decoder_state_input_h = keras.Input(shape=(latent_dim,))\n",
        "decoder_state_input_c = keras.Input(shape=(latent_dim,))\n",
        "decoder_states_inputs = [decoder_state_input_h, decoder_state_input_c]\n",
        "\n",
        "dec_emb_layer = model.layers[3]\n",
        "dec_emb = dec_emb_layer(decoder_inputs)\n",
        "\n",
        "decoder_lstm = model.layers[5]\n",
        "decoder_outputs, state_h_dec, state_c_dec = decoder_lstm(dec_emb, initial_state=decoder_states_inputs)\n",
        "decoder_states = [state_h_dec, state_c_dec]\n",
        "\n",
        "decoder_dense = model.layers[6]\n",
        "\n",
        "decoder_out = decoder_dense(decoder_outputs)\n",
        "decoder_model= Model([decoder_inputs] + decoder_states_inputs, [decoder_out] + decoder_states)"
      ],
      "metadata": {
        "id": "9Z66LWtLGGW3"
      },
      "execution_count": null,
      "outputs": []
    },
    {
      "cell_type": "code",
      "source": [
        "model = keras.models.load_model('/content/drive/MyDrive/Machine Translation Keras/nmt_50epochs.h5')\n",
        "\n",
        "# constructing the model layers\n",
        "encoder_inputs = model.input[0]\n",
        "encoder_output, state_h_enc, state_c_enc = model.layers[4].output\n",
        "encoder_states = [state_h_enc, state_c_enc]\n",
        "encoder_model = Model(encoder_inputs, encoder_states)\n",
        "\n",
        "\n",
        "decoder_inputs = model.input[1]\n",
        "decoder_state_input_h = keras.Input(shape=(latent_dim,))\n",
        "decoder_state_input_c = keras.Input(shape=(latent_dim,))\n",
        "decoder_states_inputs = [decoder_state_input_h, decoder_state_input_c]\n",
        "\n",
        "dec_emb_layer = model.layers[3]\n",
        "dec_emb = dec_emb_layer(decoder_inputs)\n",
        "\n",
        "decoder_lstm = model.layers[5]\n",
        "decoder_outputs, state_h_dec, state_c_dec = decoder_lstm(dec_emb, initial_state=decoder_states_inputs)\n",
        "decoder_states = [state_h_dec, state_c_dec]\n",
        "\n",
        "decoder_dense = model.layers[6]\n",
        "\n",
        "decoder_out = decoder_dense(decoder_outputs)\n",
        "decoder_model= Model([decoder_inputs] + decoder_states_inputs, [decoder_out] + decoder_states)"
      ],
      "metadata": {
        "id": "6nBUGYtFv_Ru"
      },
      "execution_count": 112,
      "outputs": []
    },
    {
      "cell_type": "code",
      "source": [
        "test_gen = generate_batch(X_test, y_test, batch_size = 1)\n",
        "k=10\n",
        "k+=1\n",
        "(input_seq, actual_output), _ = next(test_gen)\n",
        "decoded_sentence = decode_sequence(input_seq)\n",
        "print('Input Source sentence:', X_test[k:k+1].values[0])\n",
        "print('Actual Target Translation:', y_test[k:k+1].values[0][6:-4])\n",
        "print('Predicted Target Translation:', decoded_sentence[:-4])"
      ],
      "metadata": {
        "id": "WA0akAU6wDLd",
        "outputId": "c4408c65-3858-481d-8544-23e8b297aa5f",
        "colab": {
          "base_uri": "https://localhost:8080/"
        }
      },
      "execution_count": 113,
      "outputs": [
        {
          "output_type": "stream",
          "name": "stdout",
          "text": [
            "1/1 [==============================] - 1s 548ms/step\n",
            "1/1 [==============================] - 2s 2s/step\n",
            "1/1 [==============================] - 0s 24ms/step\n",
            "1/1 [==============================] - 0s 21ms/step\n",
            "1/1 [==============================] - 0s 21ms/step\n",
            "1/1 [==============================] - 0s 25ms/step\n",
            "Input Source sentence: he was stunned\n",
            "Actual Target Translation: il a été paralysé <\n",
            "Predicted Target Translation:  elle était trop dure <\n"
          ]
        }
      ]
    },
    {
      "cell_type": "code",
      "source": [
        "test_gen = generate_batch(X_test, y_test, batch_size = 1)\n",
        "k=10\n",
        "k+=1\n",
        "(input_seq, actual_output), _ = next(test_gen)\n",
        "decoded_sentence = decode_sequence(input_seq)\n",
        "print('Input Source sentence:', X_test[k:k+1].values[0])\n",
        "print('Actual Target Translation:', y_test[k:k+1].values[0][6:-4])\n",
        "print('Predicted Target Translation:', decoded_sentence[:-4])"
      ],
      "metadata": {
        "colab": {
          "base_uri": "https://localhost:8080/"
        },
        "id": "OXh2vhITGPiV",
        "outputId": "31448587-e593-4ff0-ab3b-ec87a6d77fcb"
      },
      "execution_count": 114,
      "outputs": [
        {
          "output_type": "stream",
          "name": "stdout",
          "text": [
            "1/1 [==============================] - 0s 20ms/step\n",
            "1/1 [==============================] - 0s 21ms/step\n",
            "1/1 [==============================] - 0s 20ms/step\n",
            "1/1 [==============================] - 0s 19ms/step\n",
            "1/1 [==============================] - 0s 21ms/step\n",
            "1/1 [==============================] - 0s 19ms/step\n",
            "Input Source sentence: he was stunned\n",
            "Actual Target Translation: il a été paralysé <\n",
            "Predicted Target Translation:  elle était trop dure <\n"
          ]
        }
      ]
    },
    {
      "cell_type": "code",
      "source": [
        "k+=1\n",
        "(input_seq, actual_output), _ = next(train_gen)\n",
        "decoded_sentence = decode_sequence(input_seq)\n",
        "print('Input Source sentence:', X_train[k:k+1].values[0])\n",
        "print('Actual Target Translation:', y_train[k:k+1].values[0][6:-4])\n",
        "print('Predicted Target Translation:', decoded_sentence[:-4])"
      ],
      "metadata": {
        "colab": {
          "base_uri": "https://localhost:8080/"
        },
        "id": "HFkMTtDOHi4q",
        "outputId": "700062d1-6405-401c-a0aa-8c49b5b609b9"
      },
      "execution_count": 115,
      "outputs": [
        {
          "output_type": "stream",
          "name": "stdout",
          "text": [
            "1/1 [==============================] - 0s 18ms/step\n",
            "1/1 [==============================] - 0s 18ms/step\n",
            "1/1 [==============================] - 0s 18ms/step\n",
            "1/1 [==============================] - 0s 28ms/step\n",
            "1/1 [==============================] - 0s 48ms/step\n",
            "1/1 [==============================] - 0s 33ms/step\n",
            "Input Source sentence: i think youre cute\n",
            "Actual Target Translation: je pense que vous êtes adorable <\n",
            "Predicted Target Translation:  jai apprécié ce livre <\n"
          ]
        }
      ]
    },
    {
      "cell_type": "code",
      "source": [],
      "metadata": {
        "id": "D7naVpXiwJVu"
      },
      "execution_count": null,
      "outputs": []
    }
  ],
  "metadata": {
    "colab": {
      "provenance": []
    },
    "kernelspec": {
      "display_name": "Python 3 (ipykernel)",
      "language": "python",
      "name": "python3"
    },
    "language_info": {
      "codemirror_mode": {
        "name": "ipython",
        "version": 3
      },
      "file_extension": ".py",
      "mimetype": "text/x-python",
      "name": "python",
      "nbconvert_exporter": "python",
      "pygments_lexer": "ipython3",
      "version": "3.9.11"
    }
  },
  "nbformat": 4,
  "nbformat_minor": 0
}